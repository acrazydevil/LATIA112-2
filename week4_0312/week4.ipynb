{
  "nbformat": 4,
  "nbformat_minor": 0,
  "metadata": {
    "colab": {
      "provenance": []
    },
    "kernelspec": {
      "name": "python3",
      "display_name": "Python 3"
    },
    "language_info": {
      "name": "python"
    }
  },
  "cells": [
    {
      "cell_type": "code",
      "execution_count": 4,
      "metadata": {
        "id": "Y_DTyLY9aZaA",
        "colab": {
          "base_uri": "https://localhost:8080/"
        },
        "outputId": "475784ab-1dda-49bb-f235-92329651204b"
      },
      "outputs": [
        {
          "output_type": "stream",
          "name": "stdout",
          "text": [
            "Mounted at /content/gdrive/\n",
            "total 20276\n",
            "-rw------- 1 root root    92484 Mar 12 06:40 112_student.csv\n",
            "-rw------- 1 root root     4829 Mar 12 06:17 std_each_week_study_tf.csv\n",
            "-rw------- 1 root root 20659344 Jul  4  2019 TaipeiSansTCBeta-Regular.ttf\n",
            "-rw------- 1 root root     4618 Mar 12 07:01 week4.ipynb\n"
          ]
        }
      ],
      "source": [
        "from google.colab import drive\n",
        "drive.mount('/content/gdrive/', force_remount=True)\n",
        "\n",
        "import os\n",
        "os.chdir(\"/content/gdrive/My Drive/112_2_LATIA/0312/\") # 切換目錄\n",
        "!ls -l \"/content/gdrive/My Drive/112_2_LATIA/0312/\" # 列出目錄下的檔案\n",
        "#!ls -l \"自行填寫正確的路徑\""
      ]
    },
    {
      "cell_type": "code",
      "source": [
        "import pandas as pd\n",
        "\n",
        "csv_file = './112_student.csv'\n",
        "#csv_file =\"自行填寫正確的路徑\"\n",
        "\n",
        "#columns = [\n",
        "#    \"學年度\",\"學校代碼\",\"學校名稱\",\"日間∕進修別\",\"等級別\",\"總計\",\"男生計\",\n",
        "#    \"女生計\",\"一年級男\",\"一年級女\",\"二年級男\",\"二年級女\",\"三年級男\",\"三年級女\",\n",
        "#    \"四年級男\",\"四年級女\",\"五年級男\",\"五年級女\",\"六年級男\",\"六年級女\",\n",
        "#    \"七年級男\",\"七年級女\",\"延修生男\",\"延修生女\",\"縣市名稱\",\"體系別\"\n",
        "#]\n",
        "df = pd.read_csv(csv_file) # 讀取csv檔案\n",
        "print(df.head(), '\\n')\n",
        "\n",
        "#查看資料欄位資訊\n",
        "print('\\n', df.info(verbose=True, show_counts=True))\n",
        "\n",
        "print('\\n', df.isna().sum()) # 計算缺失數量並印出來\n",
        "\n",
        "#查看資料的統計學資訊描述\n",
        "print('\\n', df.describe(include='all'))"
      ],
      "metadata": {
        "colab": {
          "base_uri": "https://localhost:8080/"
        },
        "id": "Kihaf9wdeUgR",
        "outputId": "c8fc150d-cd65-4159-d5e1-8d792d0d9881"
      },
      "execution_count": 34,
      "outputs": [
        {
          "output_type": "stream",
          "name": "stdout",
          "text": [
            "   學年度  學校代碼    學校名稱 日間∕進修別   等級別    總計   男生計   女生計  一年級男  一年級女  ...  五年級男  \\\n",
            "0  112     1  國立政治大學    D 日  D 博士   921   517   404    86    69  ...    63   \n",
            "1  112     1  國立政治大學    D 日  M 碩士  4231  1835  2396   598   809  ...     2   \n",
            "2  112     1  國立政治大學    N 職  M 碩士  1903   938   965   262   304  ...    77   \n",
            "3  112     1  國立政治大學    D 日  B 學士  9763  3928  5835   906  1349  ...     0   \n",
            "4  112     2  國立清華大學    D 日  D 博士  1636  1131   505   206    93  ...   140   \n",
            "\n",
            "   五年級女  六年級男  六年級女  七年級男  七年級女  延修生男  延修生女    縣市名稱   體系別  \n",
            "0    52    68    37    66    50     0     0  30 臺北市  1 一般  \n",
            "1     1     1     0     0     0     0     0  30 臺北市  1 一般  \n",
            "2    57     0     0     0     0     0     0  30 臺北市  1 一般  \n",
            "3     0     0     0     0     0   316   499  30 臺北市  1 一般  \n",
            "4    60   110    50   115    56     0     0  18 新竹市  1 一般  \n",
            "\n",
            "[5 rows x 26 columns] \n",
            "\n",
            "<class 'pandas.core.frame.DataFrame'>\n",
            "RangeIndex: 764 entries, 0 to 763\n",
            "Data columns (total 26 columns):\n",
            " #   Column  Non-Null Count  Dtype \n",
            "---  ------  --------------  ----- \n",
            " 0   學年度     764 non-null    int64 \n",
            " 1   學校代碼    764 non-null    int64 \n",
            " 2   學校名稱    764 non-null    object\n",
            " 3   日間∕進修別  764 non-null    object\n",
            " 4   等級別     764 non-null    object\n",
            " 5   總計      764 non-null    int64 \n",
            " 6   男生計     764 non-null    int64 \n",
            " 7   女生計     764 non-null    int64 \n",
            " 8   一年級男    764 non-null    int64 \n",
            " 9   一年級女    764 non-null    int64 \n",
            " 10  二年級男    764 non-null    int64 \n",
            " 11  二年級女    764 non-null    int64 \n",
            " 12  三年級男    764 non-null    int64 \n",
            " 13  三年級女    764 non-null    int64 \n",
            " 14  四年級男    764 non-null    int64 \n",
            " 15  四年級女    764 non-null    int64 \n",
            " 16  五年級男    764 non-null    int64 \n",
            " 17  五年級女    764 non-null    int64 \n",
            " 18  六年級男    764 non-null    int64 \n",
            " 19  六年級女    764 non-null    int64 \n",
            " 20  七年級男    764 non-null    int64 \n",
            " 21  七年級女    764 non-null    int64 \n",
            " 22  延修生男    764 non-null    int64 \n",
            " 23  延修生女    764 non-null    int64 \n",
            " 24  縣市名稱    764 non-null    object\n",
            " 25  體系別     764 non-null    object\n",
            "dtypes: int64(21), object(5)\n",
            "memory usage: 155.3+ KB\n",
            "\n",
            " None\n",
            "\n",
            " 學年度       0\n",
            "學校代碼      0\n",
            "學校名稱      0\n",
            "日間∕進修別    0\n",
            "等級別       0\n",
            "總計        0\n",
            "男生計       0\n",
            "女生計       0\n",
            "一年級男      0\n",
            "一年級女      0\n",
            "二年級男      0\n",
            "二年級女      0\n",
            "三年級男      0\n",
            "三年級女      0\n",
            "四年級男      0\n",
            "四年級女      0\n",
            "五年級男      0\n",
            "五年級女      0\n",
            "六年級男      0\n",
            "六年級女      0\n",
            "七年級男      0\n",
            "七年級女      0\n",
            "延修生男      0\n",
            "延修生女      0\n",
            "縣市名稱      0\n",
            "體系別       0\n",
            "dtype: int64\n",
            "\n",
            "           學年度         學校代碼    學校名稱 日間∕進修別   等級別            總計           男生計  \\\n",
            "count   764.0   764.000000     764    764   764    764.000000    764.000000   \n",
            "unique    NaN          NaN     145      4    10           NaN           NaN   \n",
            "top       NaN          NaN  弘光科技大學    D 日  M 碩士           NaN           NaN   \n",
            "freq      NaN          NaN      10    448   249           NaN           NaN   \n",
            "mean    112.0   756.200262     NaN    NaN   NaN   1433.022251    708.655759   \n",
            "std       0.0   504.152506     NaN    NaN   NaN   2633.932756   1385.170171   \n",
            "min     112.0     1.000000     NaN    NaN   NaN      1.000000      0.000000   \n",
            "25%     112.0    48.000000     NaN    NaN   NaN    103.750000     43.750000   \n",
            "50%     112.0  1029.000000     NaN    NaN   NaN    373.500000    180.000000   \n",
            "75%     112.0  1060.000000     NaN    NaN   NaN   1387.500000    590.500000   \n",
            "max     112.0  3002.000000     NaN    NaN   NaN  19466.000000  10885.000000   \n",
            "\n",
            "                 女生計         一年級男         一年級女  ...        五年級男        五年級女  \\\n",
            "count     764.000000   764.000000   764.000000  ...  764.000000  764.000000   \n",
            "unique           NaN          NaN          NaN  ...         NaN         NaN   \n",
            "top              NaN          NaN          NaN  ...         NaN         NaN   \n",
            "freq             NaN          NaN          NaN  ...         NaN         NaN   \n",
            "mean      724.366492   177.971204   173.545812  ...   11.871728   20.469895   \n",
            "std      1348.848241   349.047086   321.080379  ...   32.233288   81.117153   \n",
            "min         0.000000     0.000000     0.000000  ...    0.000000    0.000000   \n",
            "25%        50.000000     5.000000     4.000000  ...    0.000000    0.000000   \n",
            "50%       166.000000    41.000000    37.000000  ...    0.000000    0.000000   \n",
            "75%       718.500000   161.250000   188.250000  ...    6.000000    6.000000   \n",
            "max     10716.000000  2709.000000  2519.000000  ...  309.000000  897.000000   \n",
            "\n",
            "              六年級男        六年級女        七年級男        七年級女         延修生男  \\\n",
            "count   764.000000  764.000000  764.000000  764.000000   764.000000   \n",
            "unique         NaN         NaN         NaN         NaN          NaN   \n",
            "top            NaN         NaN         NaN         NaN          NaN   \n",
            "freq           NaN         NaN         NaN         NaN          NaN   \n",
            "mean      4.810209    3.615183    2.955497    1.742147    36.647906   \n",
            "std      19.818557   13.204157   17.768959    8.937397    98.370926   \n",
            "min       0.000000    0.000000    0.000000    0.000000     0.000000   \n",
            "25%       0.000000    0.000000    0.000000    0.000000     0.000000   \n",
            "50%       0.000000    0.000000    0.000000    0.000000     0.000000   \n",
            "75%       0.000000    0.000000    0.000000    0.000000    21.000000   \n",
            "max     179.000000  125.000000  312.000000  132.000000  1448.000000   \n",
            "\n",
            "               延修生女    縣市名稱   體系別  \n",
            "count    764.000000     764   764  \n",
            "unique          NaN      24     3  \n",
            "top             NaN  30 臺北市  2 技職  \n",
            "freq            NaN     120   468  \n",
            "mean      27.591623     NaN   NaN  \n",
            "std       74.731977     NaN   NaN  \n",
            "min        0.000000     NaN   NaN  \n",
            "25%        0.000000     NaN   NaN  \n",
            "50%        0.000000     NaN   NaN  \n",
            "75%       18.250000     NaN   NaN  \n",
            "max     1107.000000     NaN   NaN  \n",
            "\n",
            "[11 rows x 26 columns]\n"
          ]
        }
      ]
    },
    {
      "cell_type": "code",
      "source": [
        " #import xxxx as yy 匯入xxxx當作yy\n",
        "# set_printoptions() 設定列印的參數\n",
        "# iloc[] 指定位置元素\n",
        "\n",
        "\n",
        "import numpy as np\n",
        "np.set_printoptions(precision=None, threshold=None, edgeitems=None, linewidth=None, suppress=None, nanstr=None, infstr=None, formatter=None, sign=None, floatmode=None)  # reset print options\n",
        "##threshold\n",
        "# 當要列印的陣列太大時，NumPy會自動以...代替一部分的內容，以減少篇幅！\n",
        "# 但是可以透過全域設定set_printoptions設定threshold(門檻值)，\n",
        "# 元素數量少於或等於門檻值的陣列就會全部列印出來，\n",
        "# 相反地，元素數量高於門檻值，列印時就會省略部分內容。\n",
        "# 陣列大小:20，門檻值20 => 陣列元素數量小於等於門檻值，應列印全部內容\n",
        "# 讓列印出來的資料不斷行，使用lindwidth參數\n",
        "# 讓列印出來的資料不斷列，使用threshold參數\n",
        "\n",
        "# 查看 df 前幾筆資料並且讓列印出來的資料不斷行\n",
        "np.set_printoptions(linewidth=np.inf, threshold=np.inf)\n",
        "#np.set_printoptions(threshold=12, linewidth=30, edgeitems=0)\n",
        "print(df.iloc[0:100,])"
      ],
      "metadata": {
        "colab": {
          "base_uri": "https://localhost:8080/"
        },
        "id": "n3xEk0l1eMMS",
        "outputId": "4fda4d4f-710c-4057-c5d5-46b9490b1beb"
      },
      "execution_count": 35,
      "outputs": [
        {
          "output_type": "stream",
          "name": "stdout",
          "text": [
            "    學年度  學校代碼      學校名稱 日間∕進修別   等級別    總計   男生計   女生計  一年級男  一年級女  ...  五年級男  \\\n",
            "0   112     1    國立政治大學    D 日  D 博士   921   517   404    86    69  ...    63   \n",
            "1   112     1    國立政治大學    D 日  M 碩士  4231  1835  2396   598   809  ...     2   \n",
            "2   112     1    國立政治大學    N 職  M 碩士  1903   938   965   262   304  ...    77   \n",
            "3   112     1    國立政治大學    D 日  B 學士  9763  3928  5835   906  1349  ...     0   \n",
            "4   112     2    國立清華大學    D 日  D 博士  1636  1131   505   206    93  ...   140   \n",
            "..  ...   ...       ...    ...   ...   ...   ...   ...   ...   ...  ...   ...   \n",
            "95  112    25  國立臺北科技大學    D 日  M 碩士  3558  2535  1023  1060   402  ...     0   \n",
            "96  112    25  國立臺北科技大學    N 職  M 碩士  1604  1110   494   339   172  ...    34   \n",
            "97  112    25  國立臺北科技大學    D 日  B 四技  6371  4444  1927  1079   499  ...     0   \n",
            "98  112    25  國立臺北科技大學    N 修  B 四技  1197   984   213   161    38  ...     0   \n",
            "99  112    25  國立臺北科技大學    D 日  C 二技    22    13     9     0     0  ...     0   \n",
            "\n",
            "    五年級女  六年級男  六年級女  七年級男  七年級女  延修生男  延修生女    縣市名稱   體系別  \n",
            "0     52    68    37    66    50     0     0  30 臺北市  1 一般  \n",
            "1      1     1     0     0     0     0     0  30 臺北市  1 一般  \n",
            "2     57     0     0     0     0     0     0  30 臺北市  1 一般  \n",
            "3      0     0     0     0     0   316   499  30 臺北市  1 一般  \n",
            "4     60   110    50   115    56     0     0  18 新竹市  1 一般  \n",
            "..   ...   ...   ...   ...   ...   ...   ...     ...   ...  \n",
            "95     0     0     0     0     0     0     0  30 臺北市  2 技職  \n",
            "96    15    34    11     2     0     0     0  30 臺北市  2 技職  \n",
            "97     0     0     0     0     0   181    89  30 臺北市  2 技職  \n",
            "98     0     0     0     0     0    54    14  30 臺北市  2 技職  \n",
            "99     0     0     0     0     0     5     2  30 臺北市  2 技職  \n",
            "\n",
            "[100 rows x 26 columns]\n"
          ]
        }
      ]
    },
    {
      "cell_type": "markdown",
      "source": [
        "# 1.哪間大專院校有最多的博士生"
      ],
      "metadata": {
        "id": "EWFK-M71ayC9"
      }
    },
    {
      "cell_type": "code",
      "source": [
        "df1 = df[['學年度', '學校代碼', '學校名稱', '等級別', '總計', '男生計', '女生計']] # 取出想要觀看的欄位\n",
        "print(\"本資料集共有\", len(df1), \"筆紀錄\")\n",
        "\n",
        "df1_1 = df1[df1['等級別'] == 'D 博士']\n",
        "print(\"有招生博士學制的學校數量為\", len(df1_1), \"\\n\")\n",
        "\n",
        "df1_1_sorted = df1_1.sort_values(by='總計', ascending=False)\n",
        "print(\"112學年度在籍的博士生最多人數第1名為\", df1_1_sorted.head(1)[\"學校名稱\"].values)"
      ],
      "metadata": {
        "colab": {
          "base_uri": "https://localhost:8080/"
        },
        "id": "o3m_g9jwanoe",
        "outputId": "7d7685b5-c9ec-43e6-ffa6-1a0aea30e77b"
      },
      "execution_count": 9,
      "outputs": [
        {
          "output_type": "stream",
          "name": "stdout",
          "text": [
            "本資料集共有 764 筆紀錄\n",
            "有招生博士學制的學校數量為 84 \n",
            "\n",
            "112學年度在籍的博士生最多人數第1名為 ['國立臺灣大學']\n"
          ]
        }
      ]
    },
    {
      "cell_type": "markdown",
      "source": [
        "# 2. 國立？所；私立？所"
      ],
      "metadata": {
        "id": "A3B7HcGTa2u-"
      }
    },
    {
      "cell_type": "code",
      "source": [
        "type_list = []\n",
        "\n",
        "for i in df['學校名稱']:\n",
        "    if ('國立' in i) or ('市立' in i):\n",
        "        type_list.append('國立')\n",
        "    else:\n",
        "        type_list.append('私立')\n",
        "\n",
        "df['公私立'] = type_list # 將 Dataframe 新增「公私立」column\n",
        "\n",
        "df2 = df.drop_duplicates('學校代碼')\n",
        "\n",
        "count = df2['公私立'].value_counts()\n",
        "print(f\"本資料集共收集了 {len(df2)} 所學校，其中公立：{count['國立']} 所；私立：{count['私立']} 所。\")"
      ],
      "metadata": {
        "colab": {
          "base_uri": "https://localhost:8080/"
        },
        "id": "B1CnycYYau2N",
        "outputId": "f6df2990-f986-405b-9bc4-3d49a77fb390"
      },
      "execution_count": 10,
      "outputs": [
        {
          "output_type": "stream",
          "name": "stdout",
          "text": [
            "本資料集共收集了 145 所學校，其中公立：47 所；私立：98 所。\n"
          ]
        }
      ]
    },
    {
      "cell_type": "markdown",
      "source": [
        "# 3. 各等級別學制共有？所"
      ],
      "metadata": {
        "id": "jXSURQ4ya8Su"
      }
    },
    {
      "cell_type": "code",
      "source": [
        "\n",
        "df3 = df.drop_duplicates(subset=['學校名稱', '等級別'])\n",
        "count = df3['等級別'].value_counts()\n",
        "degree_list = list(df['等級別'].unique())\n",
        "\n",
        "print(f\"本資料集總共收集了 {len(set(df['學校代碼']))} 所學校，各等級學制當中：\")\n",
        "for degree in degree_list:\n",
        "    print(f\"一共有{count[degree]} 所學校， 有招收{degree[2:]}。\")"
      ],
      "metadata": {
        "colab": {
          "base_uri": "https://localhost:8080/"
        },
        "id": "0c4YhFmGaxU9",
        "outputId": "31abd621-cdc2-468d-90ed-ed48edc61e33"
      },
      "execution_count": 11,
      "outputs": [
        {
          "output_type": "stream",
          "name": "stdout",
          "text": [
            "本資料集總共收集了 145 所學校，各等級學制當中：\n",
            "一共有84 所學校， 有招收博士。\n",
            "一共有130 所學校， 有招收碩士。\n",
            "一共有67 所學校， 有招收學士。\n",
            "一共有1 所學校， 有招收4+X。\n",
            "一共有71 所學校， 有招收二技。\n",
            "一共有66 所學校， 有招收四技。\n",
            "一共有46 所學校， 有招收五專。\n",
            "一共有2 所學校， 有招收七年。\n",
            "一共有46 所學校， 有招收二專。\n",
            "一共有1 所學校， 有招收二年制。\n"
          ]
        }
      ]
    },
    {
      "cell_type": "code",
      "source": [
        "# 目的是根據體系別（從'體系別'列中取得）統計每個體系別的學校數量，然後列印出來。\n",
        "\n",
        "# Line14說明，df6 = df.drop_duplicates('學校代碼')\n",
        "# 使用 drop_duplicates() 函數根據 '學校代碼' 列刪除重複的行，並將結果儲存在 DataFrame df6 中。確保每個學校代碼僅出現一次。\n",
        "\n",
        "# Line15說明，count = df6['體系別'].value_counts()\n",
        "# 使用 value_counts() 函數計算 df6['體系別'] 列中每個唯一值的出現次數，並將結果儲存在 count 中。\n",
        "\n",
        "# Line17說明，print(f\"本資料集共收集了 {len(df6)} 所學校，其中：技職體系有 {count['2 技職']} 所；一般體系有 {count['1 一般']} 所；師範體系有 {count['3 師範']} 所。\")\n",
        "# 使用 f-string 格式化輸出，顯示每個體系別的學校數量。len(df6) 表示總學校數量，count['2 技職']、count['1 一般'] 和 count['3 師範'] 分別表示技職體系、一般體系和師範體系的學校數量。\n",
        "\n",
        "\n",
        "\n",
        "df6 = df.drop_duplicates('學校代碼')\n",
        "count = df6['體系別'].value_counts()\n",
        "\n",
        "print(f\"本資料集共收集了 {len(df6)} 所學校，其中：技職體系有 {count['2 技職']} 所；一般體系有 {count['1 一般']} 所；師範體系有 {count['3 師範']} 所。\")"
      ],
      "metadata": {
        "colab": {
          "base_uri": "https://localhost:8080/"
        },
        "id": "21MmYki8kNh9",
        "outputId": "c74b3edf-9d6f-4c04-a5b5-5bcb60dab3a0"
      },
      "execution_count": 27,
      "outputs": [
        {
          "output_type": "stream",
          "name": "stdout",
          "text": [
            "本資料集共收集了 146 所學校，其中：技職體系有 78 所；一般體系有 62 所；師範體系有 5 所。\n"
          ]
        }
      ]
    },
    {
      "cell_type": "markdown",
      "source": [
        "# 4. 最多碩士生大學\n"
      ],
      "metadata": {
        "id": "JOgcW4pnbBQ-"
      }
    },
    {
      "cell_type": "code",
      "source": [
        "count = {}\n",
        "\n",
        "def create_count_dict(df, count): # 建立多層 dict 結構來儲存各校在學與延修生的男女生數\n",
        "    df7 = df.drop_duplicates('學校代碼')\n",
        "    for i in df7['學校名稱']:\n",
        "        count[i] = {}\n",
        "        count[i]['在學生'] = {}\n",
        "        count[i]['在學生']['男生數'] = 0\n",
        "        count[i]['在學生']['女生數'] = 0\n",
        "        count[i]['延修生'] = {}\n",
        "        count[i]['延修生']['男生數'] = 0\n",
        "        count[i]['延修生']['女生數'] = 0\n",
        "\n",
        "\n",
        "def count_every_schools_data(df):\n",
        "    for j in range(len(df)):\n",
        "        count[df.iloc[j,2]]['在學生']['男生數'] += (int(df.iloc[j,8]) + int(df.iloc[j,10]) + int(df.iloc[j,12]) + int(df.iloc[j,14]) + int(df.iloc[j,16]) + int(df.iloc[j,18]) + int(df.iloc[j,20]))\n",
        "        count[df.iloc[j,2]]['在學生']['女生數'] += (int(df.iloc[j,9]) + int(df.iloc[j,11]) + int(df.iloc[j,13]) + int(df.iloc[j,15]) + int(df.iloc[j,17]) + int(df.iloc[j,19]) + int(df.iloc[j,21]))\n",
        "        count[df.iloc[j,2]]['延修生']['男生數'] += int(df.iloc[j,22])\n",
        "        count[df.iloc[j,2]]['延修生']['女生數'] += int(df.iloc[j,23])\n",
        "\n",
        "create_count_dict(df, count) # 執行Line37定義的Function\n",
        "count_every_schools_data(df) # 執行Line49定義的Function\n"
      ],
      "metadata": {
        "id": "BhNwBBvZbAj2"
      },
      "execution_count": 36,
      "outputs": []
    },
    {
      "cell_type": "code",
      "source": [
        "# Line6-7說明, df['', ''] 取出想要觀看的欄位，並印出資料集總筆數\n",
        "# Line9-10說明, df1['等級別'] == 'D 博士' 篩選等級別為\"D 博士\"的資料，並印出有招生博士學制的學校數量\n",
        "# Line12-13說明, sort_values(by='總計', ascending=False) 依據總計從大到小排序並印出第一筆結果 (sort_values, by, ascending)\n",
        "\n",
        "\n",
        "df1 = df[['學年度', '學校代碼', '學校名稱', '等級別', '總計', '男生計', '女生計']] # 取出想要觀看的欄位\n",
        "print(\"本資料集共有\", len(df1), \"筆紀錄\")\n",
        "\n",
        "df1_1 = df1[df1['等級別'] == 'M 碩士']\n",
        "print(\"有招生博士學制的學校數量為\", len(df1_1), \"\\n\")\n",
        "top_school_students_count = df1_1_sorted.head(1)[\"總計\"].values[0]\n",
        "df1_1_sorted = df1_1.sort_values(by='總計', ascending=False)\n",
        "print(\"112學年度在籍的碩士生最多人數第1名為\", df1_1_sorted.head(1)[\"學校名稱\"].values)\n",
        "print(\"共有\"+str(top_school_students_count)+\"位\")"
      ],
      "metadata": {
        "colab": {
          "base_uri": "https://localhost:8080/"
        },
        "id": "XzjUgXshky5V",
        "outputId": "0098454d-0d6c-4d93-f7b0-7ca9c66a012a"
      },
      "execution_count": 46,
      "outputs": [
        {
          "output_type": "stream",
          "name": "stdout",
          "text": [
            "本資料集共有 764 筆紀錄\n",
            "有招生博士學制的學校數量為 249 \n",
            "\n",
            "112學年度在籍的碩士生最多人數第1名為 ['國立臺灣大學']\n",
            "共有11328位\n"
          ]
        }
      ]
    },
    {
      "cell_type": "markdown",
      "source": [
        "# 5.各縣市分別有？所，位於台北市的大專院校總共有幾所"
      ],
      "metadata": {
        "id": "8Kp6YGaRbJle"
      }
    },
    {
      "cell_type": "code",
      "source": [
        "city_list = []\n",
        "\n",
        "for i in df['縣市名稱']:\n",
        "    city_list.append(i[3:])\n",
        "\n",
        "df['縣市名'] = city_list\n",
        "df4 = df.drop_duplicates('學校代碼')\n",
        "count = df4['縣市名'].value_counts()\n",
        "city_list = df4['縣市名'].unique()\n",
        "print(f\"本資料集共收集了 {len(df4)} 學校，其中：\")\n",
        "\n",
        "for city in city_list:\n",
        "    print(f\"{city}有 {count[city]} 所\")\n",
        "\n",
        "newtaipei = df4[df4['縣市名'] == '臺北市']\n",
        "print('\\n') #斷行的用途\n",
        "print(newtaipei['縣市名'].value_counts())"
      ],
      "metadata": {
        "colab": {
          "base_uri": "https://localhost:8080/"
        },
        "id": "WvhX2egWbOce",
        "outputId": "754b3fa5-5f0e-43e5-8153-68f6261ad725"
      },
      "execution_count": 23,
      "outputs": [
        {
          "output_type": "stream",
          "name": "stdout",
          "text": [
            "本資料集共收集了 146 學校，其中：\n",
            "稱有 1 所\n",
            "臺北市有 24 所\n",
            "新竹市有 5 所\n",
            "臺南市有 13 所\n",
            "臺中市有 17 所\n",
            "桃園市有 12 所\n",
            "高雄市有 15 所\n",
            "基隆市有 3 所\n",
            "嘉義縣有 4 所\n",
            "彰化縣有 4 所\n",
            "新北市有 20 所\n",
            "嘉義市有 2 所\n",
            "花蓮縣有 4 所\n",
            "南投縣有 2 所\n",
            "雲林縣有 3 所\n",
            "屏東縣有 5 所\n",
            "臺東縣有 2 所\n",
            "宜蘭縣有 3 所\n",
            "苗栗縣有 3 所\n",
            "澎湖縣有 1 所\n",
            "金門縣有 1 所\n",
            "新竹縣有 2 所\n",
            "\n",
            "\n",
            "臺北市    24\n",
            "Name: 縣市名, dtype: int64"
          ]
        }
      ]
    },
    {
      "cell_type": "markdown",
      "source": [
        "#  6.學生部最少大學"
      ],
      "metadata": {
        "id": "kxlkPlskbNi2"
      }
    },
    {
      "cell_type": "code",
      "source": [
        "df1 = df[['學年度', '學校代碼', '學校名稱', '等級別', '總計', '男生計', '女生計']] # 取出想要觀看的欄位\n",
        "print(\"本資料集共有\", len(df1), \"筆紀錄\")\n",
        "\n",
        "df1_1 = df1[df1['等級別'] == 'B 學士']\n",
        "print(\"有招生大學制的學校數量為\", len(df1_1), \"\\n\")\n",
        "\n",
        "df1_1_sorted = df1_1.sort_values(by='總計', ascending=True)\n",
        "least_students_count = df1_1_sorted.head(1)[\"總計\"].values[0]\n",
        "print(\"112學年度在籍的學生生最少人數第1名為\", df1_1_sorted.head(1)[\"學校名稱\"].values)\n",
        "print(\"共有\"+str(least_students_count)+\"位\")"
      ],
      "metadata": {
        "colab": {
          "base_uri": "https://localhost:8080/"
        },
        "id": "-COc8pYhbS8m",
        "outputId": "4a7f0ffe-852d-4bff-b404-621ea0244054"
      },
      "execution_count": 49,
      "outputs": [
        {
          "output_type": "stream",
          "name": "stdout",
          "text": [
            "本資料集共有 764 筆紀錄\n",
            "有招生大學制的學校數量為 97 \n",
            "\n",
            "112學年度在籍的學生生最少人數第1名為 ['真理大學']\n",
            "1\n"
          ]
        }
      ]
    },
    {
      "cell_type": "markdown",
      "source": [
        "# 新增縣市名、公私立、區域"
      ],
      "metadata": {
        "id": "vc2sjJp7xp84"
      }
    },
    {
      "cell_type": "code",
      "source": [
        "import pandas as pd\n",
        "\n",
        "# 假設您已經有一個 DataFrame df，包含了學校名稱、學校代碼、縣市名和區域等信息\n",
        "\n",
        "# 創建一個空的列表來存放公私立信息\n",
        "type_list = []\n",
        "\n",
        "# 遍歷學校名稱列，根據條件判斷公私立性質\n",
        "for school_name in df['學校名稱']:\n",
        "    if '國立' in school_name or '市立' in school_name:\n",
        "        type_list.append('國立')\n",
        "    else:\n",
        "        type_list.append('私立')\n",
        "\n",
        "# 在 DataFrame 中新增「公私立」列\n",
        "df['公私立'] = type_list\n",
        "\n",
        "# 創建一個新的 DataFrame，刪除重複的學校代碼，這樣每個學校只會出現一次\n",
        "df2 = df.drop_duplicates('學校代碼')\n",
        "\n",
        "# 獲取縣市名稱信息\n",
        "city_list = []\n",
        "\n",
        "for city in df['縣市名稱']:\n",
        "    city_list.append(city[3:])\n",
        "\n",
        "df['縣市名'] = city_list\n",
        "\n",
        "# 再次刪除重複的學校代碼，確保每個學校只出現一次\n",
        "df3 = df.drop_duplicates('學校代碼').copy()  # 複製一份 DataFrame，以避免警告\n",
        "\n",
        "# 建立縣市到區域的映射關係\n",
        "city_to_area = {\n",
        "    '臺北市': '北部',\n",
        "    '新北市': '北部',\n",
        "    '基隆市': '北部',\n",
        "    '新竹市': '北部',\n",
        "    '桃園市': '北部',\n",
        "    '新竹縣': '北部',\n",
        "    '宜蘭縣': '北部',\n",
        "    '臺中市': '中部',\n",
        "    '苗栗縣': '中部',\n",
        "    '彰化縣': '中部',\n",
        "    '南投縣': '中部',\n",
        "    '雲林縣': '中部',\n",
        "    '高雄市': '南部',\n",
        "    '臺南市': '南部',\n",
        "    '嘉義市': '南部',\n",
        "    '嘉義縣': '南部',\n",
        "    '屏東縣': '南部',\n",
        "    '澎湖縣': '南部',\n",
        "    '花蓮縣': '東部',\n",
        "    '臺東縣': '東部',\n",
        "    '金門縣': '福建省'\n",
        "}\n",
        "\n",
        "# 使用 .loc 來賦值\n",
        "df3.loc[:, '區域'] = df3['縣市名'].map(city_to_area)\n",
        "\n",
        "# 創建新的 DataFrame，只包含需要的列\n",
        "new_df = df3[['公私立', '縣市名', '區域']]\n",
        "original_df = pd.read_csv('112_student.csv', encoding='utf-8')\n",
        "\n",
        "# 合併原始 DataFrame 和新的 DataFrame\n",
        "merged_df = pd.concat([original_df, new_df], axis=1)\n",
        "\n",
        "# 將合併後的 DataFrame 寫入到新的 CSV 文件中\n",
        "merged_df.to_csv('112_students_tf.csv', encoding='utf-8', sep=',', index=False)"
      ],
      "metadata": {
        "id": "E8tN8k2Zup31"
      },
      "execution_count": 50,
      "outputs": []
    }
  ]
}